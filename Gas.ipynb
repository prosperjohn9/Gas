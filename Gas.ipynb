{
  "nbformat": 4,
  "nbformat_minor": 0,
  "metadata": {
    "colab": {
      "provenance": [],
      "authorship_tag": "ABX9TyOueF5Zq57uvJepD0At9GKD",
      "include_colab_link": true
    },
    "kernelspec": {
      "name": "python3",
      "display_name": "Python 3"
    },
    "language_info": {
      "name": "python"
    }
  },
  "cells": [
    {
      "cell_type": "markdown",
      "metadata": {
        "id": "view-in-github",
        "colab_type": "text"
      },
      "source": [
        "<a href=\"https://colab.research.google.com/github/prosperjohn9/Gas/blob/main/Gas.ipynb\" target=\"_parent\"><img src=\"https://colab.research.google.com/assets/colab-badge.svg\" alt=\"Open In Colab\"/></a>"
      ]
    },
    {
      "cell_type": "markdown",
      "source": [
        "Write a program that will prompt the user for a floating point number that stands for gallons of gasoline. You will reprint that value along with other information about gasoline and gasoline usage:\n",
        "\n",
        "\n",
        "*   Number of liters\n",
        "*   Number of barrels of oil required to make this amount of gasoline\n",
        "*   Price in US dollars\n",
        "\n",
        "Here are some approximate conversion values\n",
        "\n",
        "\n",
        "*   1 gallon is equivalent to 3.7854 liters\n",
        "*   1 barrel of oil approximately produces 19.5 gallons of gas\n",
        "*   Let's assume the cost is $0.75/liter\n",
        "\n",
        "\n",
        "\n",
        "\n",
        "\n"
      ],
      "metadata": {
        "id": "sg6Ndx7BQANY"
      }
    },
    {
      "cell_type": "code",
      "source": [
        "gallons = float(input(\"Enter a number which stands for gallons of gasoline: \"))\n",
        "liters = 3.7854 * gallons\n",
        "barrels = gallons / 19.5\n",
        "cost = 0.75 * liters\n",
        "print(gallons, \"gallon(s) = \",format(liters, \".2f\"), \"liter(s)\" )\n",
        "print(format(barrels, \".2f\"), \"barrel(s) of oil required to produce\", gallons, \"gallon(s) of gas\")\n",
        "print(\"It will cost\", format(cost, \".2f\"), \"dollar(s).\")"
      ],
      "metadata": {
        "colab": {
          "base_uri": "https://localhost:8080/"
        },
        "id": "IoJJXY4TR-Y_",
        "outputId": "337eec17-35ae-4d29-adfe-85b355706761"
      },
      "execution_count": null,
      "outputs": [
        {
          "output_type": "stream",
          "name": "stdout",
          "text": [
            "Enter a number which stands for gallons of gasoline: 97\n",
            "97.0 gallon(s) =  367.18 liter(s)\n",
            "4.97 barrel(s) of oil required to produce 97.0 gallon(s) of gas\n",
            "It will cost 275.39 dollar(s).\n"
          ]
        }
      ]
    }
  ]
}